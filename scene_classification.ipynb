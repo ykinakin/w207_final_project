{
 "cells": [
  {
   "cell_type": "markdown",
   "id": "eb3a0717-f222-4675-a6e5-4c9c5f14a74d",
   "metadata": {},
   "source": [
    "Goal: a scene classification model that classifies an image to one of 6 labels:\n",
    "- Buildings\n",
    "- Forests\n",
    "- Mountains\n",
    "- Glacier\n",
    "- Street\n",
    "- Sea\n",
    "\n",
    "Dataset: https://www.kaggle.com/datasets/nitishabharathi/scene-classification?resource=download&select=train-scene+classification"
   ]
  },
  {
   "cell_type": "code",
   "execution_count": 1,
   "id": "3c79f0cb-ac68-4603-8ccf-4b3f2b3e2040",
   "metadata": {},
   "outputs": [
    {
     "name": "stderr",
     "output_type": "stream",
     "text": [
      "2022-11-22 17:09:08.790475: I tensorflow/core/platform/cpu_feature_guard.cc:193] This TensorFlow binary is optimized with oneAPI Deep Neural Network Library (oneDNN) to use the following CPU instructions in performance-critical operations:  AVX2 FMA\n",
      "To enable them in other operations, rebuild TensorFlow with the appropriate compiler flags.\n"
     ]
    }
   ],
   "source": [
    "# Import the libraries we'll use below.\n",
    "import numpy as np\n",
    "from matplotlib import pyplot as plt\n",
    "import pandas as pd\n",
    "import seaborn as sns  # for nicer plots\n",
    "sns.set(style=\"darkgrid\")  # default style\n",
    "\n",
    "import tensorflow as tf\n",
    "from tensorflow import keras\n",
    "from keras import metrics\n",
    "tf.get_logger().setLevel('INFO')"
   ]
  },
  {
   "cell_type": "code",
   "execution_count": 2,
   "id": "278ca2e4",
   "metadata": {},
   "outputs": [],
   "source": [
    "np.random.seed(seed=123)"
   ]
  },
  {
   "cell_type": "markdown",
   "id": "c391db47-3e23-4ace-b8a7-40320cce9a37",
   "metadata": {},
   "source": [
    "## Load data"
   ]
  },
  {
   "cell_type": "code",
   "execution_count": 3,
   "id": "4c4cc43b-f32c-41af-a4f9-52bb00aa8c55",
   "metadata": {},
   "outputs": [],
   "source": [
    "from PIL import Image\n",
    "\n",
    "def generate_xy(df):\n",
    "    X = []\n",
    "    for i in df['image_name'].values:\n",
    "        img = Image.open(f'train-scene classification/train/{i}')\n",
    "        img_arr = np.array(img)\n",
    "        if img_arr.shape[0] == 150:\n",
    "            X.append(np.array(img))\n",
    "        else:\n",
    "            X.append(np.array(img.resize((150,150))))\n",
    "\n",
    "    X = np.array(X)\n",
    "    Y = df['label'].values\n",
    "    \n",
    "    return X, Y"
   ]
  },
  {
   "cell_type": "code",
   "execution_count": 4,
   "id": "40e8b190",
   "metadata": {},
   "outputs": [],
   "source": [
    "labels = ['building','forest','glacier','mountain',\n",
    "            'sea','street']"
   ]
  },
  {
   "cell_type": "code",
   "execution_count": 5,
   "id": "21c03b48-f27b-400c-b0c0-56abf35a7947",
   "metadata": {},
   "outputs": [],
   "source": [
    "samples_df = pd.read_csv('train-scene classification/train.csv')\n",
    "\n",
    "val_df = samples_df.sample(frac=.2)\n",
    "test_df = samples_df[~samples_df.index.isin(val_df.index)].sample(frac=.1)\n",
    "train_df = samples_df[~samples_df.index.isin(val_df.index) & ~samples_df.index.isin(test_df.index)]"
   ]
  },
  {
   "cell_type": "code",
   "execution_count": 6,
   "id": "4c4a6c00-8f39-46c3-bec4-bd58d275a688",
   "metadata": {},
   "outputs": [
    {
     "data": {
      "text/plain": [
       "17034"
      ]
     },
     "execution_count": 6,
     "metadata": {},
     "output_type": "execute_result"
    }
   ],
   "source": [
    "train_df.shape[0] + val_df.shape[0] + test_df.shape[0]"
   ]
  },
  {
   "cell_type": "code",
   "execution_count": 7,
   "id": "a1adf893-b9d9-43fb-a989-9ff545e1dcbc",
   "metadata": {},
   "outputs": [
    {
     "data": {
      "text/plain": [
       "17034"
      ]
     },
     "execution_count": 7,
     "metadata": {},
     "output_type": "execute_result"
    }
   ],
   "source": [
    "samples_df.shape[0]"
   ]
  },
  {
   "cell_type": "code",
   "execution_count": 8,
   "id": "9614ff88-5c9c-42e1-867f-84639e70b9f3",
   "metadata": {},
   "outputs": [],
   "source": [
    "train_X, train_Y = generate_xy(train_df)\n",
    "val_X, val_Y = generate_xy(val_df)\n",
    "test_X, test_Y = generate_xy(test_df)"
   ]
  },
  {
   "cell_type": "markdown",
   "id": "1f60296f-26ff-4182-adec-1711619c0bbd",
   "metadata": {},
   "source": [
    "## Exploratory Data Analysis"
   ]
  },
  {
   "cell_type": "code",
   "execution_count": 9,
   "id": "ff6c5c93-db65-4872-89e3-fdaa4b1a16eb",
   "metadata": {},
   "outputs": [],
   "source": [
    "import matplotlib.pyplot as plt\n",
    "import seaborn as sns"
   ]
  },
  {
   "cell_type": "code",
   "execution_count": 10,
   "id": "a2604eb0-ebb1-4005-99ee-c8134a95cf35",
   "metadata": {},
   "outputs": [
    {
     "data": {
      "text/plain": [
       "array([0, 4, 5, 1, 2, 3])"
      ]
     },
     "execution_count": 10,
     "metadata": {},
     "output_type": "execute_result"
    }
   ],
   "source": [
    "classes = samples_df['label'].unique()\n",
    "classes"
   ]
  },
  {
   "cell_type": "markdown",
   "id": "c1a592fa",
   "metadata": {},
   "source": [
    "### Explore image specifics"
   ]
  },
  {
   "cell_type": "code",
   "execution_count": 11,
   "id": "e5cd0413",
   "metadata": {},
   "outputs": [
    {
     "name": "stdout",
     "output_type": "stream",
     "text": [
      "total training samples: 12264\n",
      "total val samples: 3407\n",
      "total test samples: 1363\n",
      "image size: (150, 150)\n"
     ]
    }
   ],
   "source": [
    "print(f'total training samples: {train_X.shape[0]}')\n",
    "print(f'total val samples: {val_X.shape[0]}')\n",
    "print(f'total test samples: {test_X.shape[0]}')\n",
    "print(f'image size: {train_X.shape[1:3]}')"
   ]
  },
  {
   "cell_type": "markdown",
   "id": "ed84b649-3698-4b67-8859-2480c59ca6e3",
   "metadata": {},
   "source": [
    "### Check class balance across train/val dataset"
   ]
  },
  {
   "cell_type": "markdown",
   "id": "d066354e-e430-4125-b405-0eb3ebf9edd7",
   "metadata": {},
   "source": [
    "#### Whole dataset"
   ]
  },
  {
   "cell_type": "code",
   "execution_count": 12,
   "id": "aac02cbd-9787-4e08-9907-8369ee5484a6",
   "metadata": {},
   "outputs": [
    {
     "data": {
      "text/plain": [
       "<AxesSubplot: xlabel='label', ylabel='counts'>"
      ]
     },
     "execution_count": 12,
     "metadata": {},
     "output_type": "execute_result"
    },
    {
     "data": {
      "image/png": "[encoded data removed]",
      "text/plain": [
       "<Figure size 640x480 with 1 Axes>"
      ]
     },
     "metadata": {},
     "output_type": "display_data"
    }
   ],
   "source": [
    "class_counts = samples_df.groupby(by='label').count().reset_index()\n",
    "class_counts.rename(columns={'image_name':'counts'}, inplace=True)\n",
    "sns.barplot(x='label', y='counts', data=class_counts) "
   ]
  },
  {
   "cell_type": "markdown",
   "id": "a14e00e8-55ed-4bf2-bc52-1fbcdffb62c0",
   "metadata": {},
   "source": [
    "#### Train dataset"
   ]
  },
  {
   "cell_type": "code",
   "execution_count": 13,
   "id": "8ea3796a-2264-4fb5-bc1c-0fdf955ec13d",
   "metadata": {},
   "outputs": [
    {
     "data": {
      "text/plain": [
       "<AxesSubplot: xlabel='label', ylabel='counts'>"
      ]
     },
     "execution_count": 13,
     "metadata": {},
     "output_type": "execute_result"
    },
    {
     "data": {
      "image/png": "[encoded data removed]",
      "text/plain": [
       "<Figure size 640x480 with 1 Axes>"
      ]
     },
     "metadata": {},
     "output_type": "display_data"
    }
   ],
   "source": [
    "train_class_counts = train_df.groupby(by='label').count().reset_index()\n",
    "train_class_counts.rename(columns={'image_name':'counts'}, inplace=True)\n",
    "sns.barplot(x='label', y='counts', data=train_class_counts) "
   ]
  },
  {
   "cell_type": "markdown",
   "id": "0230a719-8d8c-41a9-9fc9-347e3fe0fc1c",
   "metadata": {},
   "source": [
    "#### Val dataset"
   ]
  },
  {
   "cell_type": "code",
   "execution_count": 14,
   "id": "a2f9f3a6-d22e-4ee2-a015-8781df43fed6",
   "metadata": {},
   "outputs": [
    {
     "data": {
      "text/plain": [
       "<AxesSubplot: xlabel='label', ylabel='counts'>"
      ]
     },
     "execution_count": 14,
     "metadata": {},
     "output_type": "execute_result"
    },
    {
     "data": {
      "image/png": "[encoded data removed]",
      "text/plain": [
       "<Figure size 640x480 with 1 Axes>"
      ]
     },
     "metadata": {},
     "output_type": "display_data"
    }
   ],
   "source": [
    "val_class_counts = val_df.groupby(by='label').count().reset_index()\n",
    "val_class_counts.rename(columns={'image_name':'counts'}, inplace=True)\n",
    "sns.barplot(x='label', y='counts', data=val_class_counts) "
   ]
  },
  {
   "cell_type": "markdown",
   "id": "ed406d6b-2130-4a94-b946-ea5299fdca19",
   "metadata": {},
   "source": [
    "#### Test dataset"
   ]
  },
  {
   "cell_type": "code",
   "execution_count": 15,
   "id": "0eaa356a-57d0-4101-a418-0bbd0f317483",
   "metadata": {},
   "outputs": [
    {
     "data": {
      "text/plain": [
       "<AxesSubplot: xlabel='label', ylabel='counts'>"
      ]
     },
     "execution_count": 15,
     "metadata": {},
     "output_type": "execute_result"
    },
    {
     "data": {
      "image/png": "[encoded data removed]",
      "text/plain": [
       "<Figure size 640x480 with 1 Axes>"
      ]
     },
     "metadata": {},
     "output_type": "display_data"
    }
   ],
   "source": [
    "test_class_counts = test_df.groupby(by='label').count().reset_index()\n",
    "test_class_counts.rename(columns={'image_name':'counts'}, inplace=True)\n",
    "sns.barplot(x='label', y='counts', data=test_class_counts) "
   ]
  },
  {
   "cell_type": "markdown",
   "id": "fca4880e",
   "metadata": {},
   "source": [
    "## Image preprocessing"
   ]
  },
  {
   "cell_type": "code",
   "execution_count": 16,
   "id": "72580e8a",
   "metadata": {},
   "outputs": [],
   "source": [
    "train_X_norm = []\n",
    "for image in train_X:\n",
    "    image = image.astype('float64')\n",
    "    image *= 255.0/image.max()\n",
    "    image = image.astype('uint8')\n",
    "    train_X_norm.append(image)\n",
    "\n",
    "train_X_norm = np.array(train_X_norm)\n",
    "\n",
    "val_X_norm = []\n",
    "for image in val_X:\n",
    "    image = image.astype('float64')\n",
    "    image *= 255.0/image.max()\n",
    "    image = image.astype('uint8')\n",
    "    val_X_norm.append(image)\n",
    "\n",
    "val_X_norm = np.array(val_X_norm)"
   ]
  },
  {
   "cell_type": "code",
   "execution_count": 17,
   "id": "c021fbe5",
   "metadata": {},
   "outputs": [
    {
     "name": "stderr",
     "output_type": "stream",
     "text": [
      "2022-11-22 17:09:45.132934: I tensorflow/core/platform/cpu_feature_guard.cc:193] This TensorFlow binary is optimized with oneAPI Deep Neural Network Library (oneDNN) to use the following CPU instructions in performance-critical operations:  AVX2 FMA\n",
      "To enable them in other operations, rebuild TensorFlow with the appropriate compiler flags.\n"
     ]
    }
   ],
   "source": [
    "normalization_layer = tf.keras.layers.Rescaling(1./255)\n",
    "normalized_train_X = normalization_layer(train_X)\n",
    "normalized_val_X = normalization_layer(val_X)"
   ]
  },
  {
   "cell_type": "code",
   "execution_count": null,
   "id": "fdbf70bf",
   "metadata": {},
   "outputs": [],
   "source": [
    "import matplotlib.pyplot as plt\n",
    "\n",
    "fig, axes = plt.subplots(ncols=3,nrows=1,figsize=(16,6))\n",
    "\n",
    "bands = train_X.transpose(3, 0, 1, 2)\n",
    "axes[0].set_title('band 0')\n",
    "sns.histplot(np.random.choice(bands[0].ravel(), size=1000), ax=axes[0])\n",
    "axes[1].set_title('band 1')\n",
    "sns.histplot(np.random.choice(bands[1].ravel(), size=1000), ax=axes[1])\n",
    "axes[2].set_title('band 2')\n",
    "sns.histplot(np.random.choice(bands[2].ravel(), size=1000), ax=axes[2])\n",
    "\n",
    "plt.show()"
   ]
  },
  {
   "cell_type": "code",
   "execution_count": null,
   "id": "42f3cfbf",
   "metadata": {},
   "outputs": [],
   "source": [
    "fig, axes = plt.subplots(ncols=3,nrows=1,figsize=(16,6))\n",
    "\n",
    "bands = train_X_norm.transpose(3, 0, 1, 2)\n",
    "axes[0].set_title('band 0')\n",
    "sns.histplot(np.random.choice(bands[0].ravel(), size=1000), ax=axes[0])\n",
    "axes[1].set_title('band 1')\n",
    "sns.histplot(np.random.choice(bands[1].ravel(), size=1000), ax=axes[1])\n",
    "axes[2].set_title('band 2')\n",
    "sns.histplot(np.random.choice(bands[2].ravel(), size=1000), ax=axes[2])\n",
    "\n",
    "plt.show()"
   ]
  },
  {
   "cell_type": "code",
   "execution_count": null,
   "id": "4f588ed7",
   "metadata": {},
   "outputs": [],
   "source": [
    "fig, axes = plt.subplots(ncols=2,nrows=1,figsize=(16,6))\n",
    "\n",
    "axes[0].imshow(train_X[0])\n",
    "axes[1].imshow(train_X_norm[0])"
   ]
  },
  {
   "cell_type": "markdown",
   "id": "3d7d43d0-fb93-4df9-8c66-6b0def72b377",
   "metadata": {},
   "source": [
    "## Train Model"
   ]
  },
  {
   "cell_type": "markdown",
   "id": "89f27cad",
   "metadata": {},
   "source": [
    "### Train Feed Forward Network"
   ]
  },
  {
   "cell_type": "code",
   "execution_count": null,
   "id": "52b7b247-7646-4839-867b-936878a8b6b5",
   "metadata": {},
   "outputs": [],
   "source": [
    "def build_model(n_classes,\n",
    "                hidden_layer_sizes=[],\n",
    "                activation='relu',\n",
    "                optimizer='SGD',\n",
    "                learning_rate=0.01):\n",
    "    \"\"\"Build a multi-class logistic regression model using Keras.\n",
    "\n",
    "    Args:\n",
    "    n_classes: Number of output classes in the dataset.\n",
    "    hidden_layer_sizes: A list with the number of units in each hidden layer.\n",
    "    activation: The activation function to use for the hidden layers.\n",
    "    optimizer: The optimizer to use (SGD, Adam).\n",
    "    learning_rate: The desired learning rate for the optimizer.\n",
    "\n",
    "    Returns:\n",
    "    model: A tf.keras model (graph).\n",
    "    \"\"\"\n",
    "    tf.keras.backend.clear_session()\n",
    "    np.random.seed(0)\n",
    "    tf.random.set_seed(0)\n",
    "\n",
    "    model = keras.Sequential()\n",
    "    for layer_size in hidden_layer_sizes:\n",
    "        \n",
    "        model.add(keras.layers.Dense(\n",
    "          units=layer_size,\n",
    "          activation=activation,\n",
    "        ))\n",
    "    model.add(keras.layers.Flatten())\n",
    "    model.add(keras.layers.Dense(\n",
    "      units=n_classes,\n",
    "      activation='softmax'\n",
    "    ))\n",
    "    \n",
    "    optimizer = tf.keras.optimizers.SGD(learning_rate=learning_rate) if optimizer == 'SGD' \\\n",
    "             else tf.keras.optimizers.Adam(learning_rate=learning_rate)\n",
    "    \n",
    "    model.compile(loss='sparse_categorical_crossentropy', \n",
    "                optimizer=optimizer, \n",
    "                metrics=['accuracy'])\n",
    "    return model"
   ]
  },
  {
   "cell_type": "code",
   "execution_count": null,
   "id": "8ab3b213-0b53-46a7-8a77-ea5862c12f78",
   "metadata": {},
   "outputs": [],
   "source": [
    "model = build_model(n_classes=len(classes),\n",
    "                      hidden_layer_sizes=[150],\n",
    "                      activation='relu',\n",
    "                      optimizer='Adam',\n",
    "                      learning_rate=.0005)"
   ]
  },
  {
   "cell_type": "code",
   "execution_count": null,
   "id": "b3c31a8c-f589-4f6a-a2d1-902c6f6d4e3e",
   "metadata": {},
   "outputs": [],
   "source": [
    "print('Training...')\n",
    "n_epochs = 20\n",
    "history = model.fit(\n",
    "    x=train_X,\n",
    "    y=train_Y,\n",
    "    epochs=n_epochs,\n",
    "    batch_size=16,\n",
    "    validation_data=(val_X, val_Y),\n",
    "    # validation_split=0.10,\n",
    "    verbose=True)"
   ]
  },
  {
   "cell_type": "code",
   "execution_count": null,
   "id": "00ad002f-b4ed-46f5-ba82-7badebfb4014",
   "metadata": {},
   "outputs": [],
   "source": [
    "train_accuracy = history.history['accuracy']\n",
    "val_accuracy = history.history['val_accuracy']\n",
    "plt.plot(train_accuracy, label='train_accuracy')\n",
    "plt.plot(val_accuracy, label='validation accuracy')\n",
    "plt.xticks(range(n_epochs))\n",
    "plt.xlabel('Train epochs')\n",
    "plt.legend()\n",
    "plt.show()\n",
    "\n",
    "model_eval = model.evaluate(x=test_X, y=test_Y, verbose=0,\n",
    "                             return_dict=True)\n",
    "\n",
    "test_accuracy = model_eval['accuracy']\n",
    "print(test_accuracy)"
   ]
  },
  {
   "cell_type": "code",
   "execution_count": null,
   "id": "86fec24b-4218-4a5e-b736-ca6238ba106f",
   "metadata": {},
   "outputs": [],
   "source": [
    "predictions = model.predict(test_X)"
   ]
  },
  {
   "cell_type": "code",
   "execution_count": null,
   "id": "618569c8",
   "metadata": {},
   "outputs": [],
   "source": [
    "predictions[0].max()\n",
    "guess = np.where(predictions[0]==predictions[0].max())\n",
    "\n",
    "labels[guess[0][0]]"
   ]
  },
  {
   "cell_type": "code",
   "execution_count": null,
   "id": "4a784d5f",
   "metadata": {},
   "outputs": [],
   "source": [
    "def view_predictions(samples, actual, predictions, n_samples=5):\n",
    "    fig, axes = plt.subplots(nrows=n_samples, ncols=1)\n",
    "    fig.set_size_inches(10, 25)\n",
    "    for i in range(n_samples):\n",
    "        scores = predictions[i]\n",
    "        guess = np.where(scores==scores.max())\n",
    "        axes[i].imshow(samples[i])\n",
    "        axes[i].set_title('ACTUAL: '+str(labels[actual[i]])+ \n",
    "                    ' PRED: '+str(labels[guess[0][0]]))\n",
    "        \n",
    "    plt.show()\n"
   ]
  },
  {
   "cell_type": "code",
   "execution_count": null,
   "id": "8ec41424",
   "metadata": {},
   "outputs": [],
   "source": [
    "view_predictions(test_X, test_Y, predictions)"
   ]
  },
  {
   "cell_type": "markdown",
   "id": "46410969",
   "metadata": {},
   "source": [
    "### Train 2d CNN"
   ]
  },
  {
   "cell_type": "code",
   "execution_count": 18,
   "id": "b14f385e",
   "metadata": {},
   "outputs": [],
   "source": [
    "normalization_layer = tf.keras.layers.Rescaling(1./255)\n",
    "normalized_train_X = normalization_layer(train_X)\n",
    "normalized_val_X = normalization_layer(val_X)\n",
    "normalized_test_X = normalization_layer(test_X)"
   ]
  },
  {
   "cell_type": "code",
   "execution_count": 19,
   "id": "29d52ae9",
   "metadata": {},
   "outputs": [],
   "source": [
    "def build_2d_cnn_model(n_classes, input_shape,\n",
    "                filters=32,\n",
    "                strieds=1,\n",
    "                activation='relu',\n",
    "                optimizer='SGD',\n",
    "                learning_rate=0.01,\n",
    "                padding='valid',\n",
    "                pool_size=2,\n",
    "                kernel_sizes=[3]):\n",
    "    \"\"\"Build a multi-class logistic regression model using Keras.\n",
    "\n",
    "    Args:\n",
    "    n_classes: Number of output classes in the dataset.\n",
    "    hidden_layer_sizes: A list with the number of units in each hidden layer.\n",
    "    activation: The activation function to use for the hidden layers.\n",
    "    optimizer: The optimizer to use (SGD, Adam).\n",
    "    learning_rate: The desired learning rate for the optimizer.\n",
    "\n",
    "    Returns:\n",
    "    model: A tf.keras model (graph).\n",
    "    \"\"\"\n",
    "    tf.keras.backend.clear_session()\n",
    "    np.random.seed(0)\n",
    "    tf.random.set_seed(0)\n",
    "\n",
    "    model = keras.Sequential()\n",
    "\n",
    "    for kernel_size in kernel_sizes:\n",
    "      model.add(keras.layers.Conv2D(filters,kernel_size,input_shape=input_shape,padding=padding))\n",
    "      model.add(keras.layers.MaxPooling2D(pool_size=pool_size))\n",
    "      model.add(keras.layers.Dropout(.5))\n",
    "      \n",
    "    model.add(keras.layers.Flatten())\n",
    "    \n",
    "    # model.add(keras.layers.Dense(16, activation=activation))\n",
    "    model.add(keras.layers.Dense(\n",
    "      units=n_classes,\n",
    "      activation='softmax'\n",
    "    ))\n",
    "    \n",
    "    optimizer = tf.keras.optimizers.SGD(learning_rate=learning_rate) if optimizer == 'SGD' \\\n",
    "             else tf.keras.optimizers.Adam(learning_rate=learning_rate)\n",
    "    \n",
    "    model.compile(loss='sparse_categorical_crossentropy', \n",
    "                optimizer=optimizer, \n",
    "                metrics=['accuracy'])\n",
    "    return model"
   ]
  },
  {
   "cell_type": "code",
   "execution_count": 22,
   "id": "f6540daa",
   "metadata": {},
   "outputs": [],
   "source": [
    "def build_2d_cnn_model2(n_classes, input_shape,\n",
    "                optimizer='SGD',\n",
    "                learning_rate=0.01,\n",
    "                padding='valid',\n",
    "                pool_size=2):\n",
    "    \"\"\"Build a multi-class 2D CNN using Keras.\n",
    "\n",
    "    Args:\n",
    "    n_classes: Number of output classes in the dataset.\n",
    "    input_shape: The shape of the input dataset.\n",
    "    optimizer: The optimizer to use (SGD, Adam).\n",
    "    learning_rate: The desired learning rate for the optimizer.\n",
    "\n",
    "    Returns:\n",
    "    model: A tf.keras model (graph).\n",
    "    \"\"\"\n",
    "    tf.keras.backend.clear_session()\n",
    "    np.random.seed(0)\n",
    "    tf.random.set_seed(0)\n",
    "\n",
    "    model = keras.Sequential([\n",
    "      keras.layers.Rescaling(1./255, input_shape=input_shape),\n",
    "      keras.layers.Conv2D(16, 3, padding='same', activation='relu'),\n",
    "      keras.layers.MaxPooling2D(),\n",
    "      keras.layers.Conv2D(32, 3, padding='same', activation='relu'),\n",
    "      keras.layers.MaxPooling2D(),\n",
    "      keras.layers.Conv2D(64, 3, padding='same', activation='relu'),\n",
    "      keras.layers.MaxPooling2D(),\n",
    "      keras.layers.Dropout(rate=0.5),\n",
    "      keras.layers.Flatten(),\n",
    "      keras.layers.Dense(128, activation='relu'),\n",
    "      keras.layers.Dense(n_classes),\n",
    "    ])\n",
    "    \n",
    "    # model.add(keras.layers.Dense(16, activation=activation))\n",
    "    model.add(keras.layers.Dense(\n",
    "      units=n_classes,\n",
    "      activation='softmax'\n",
    "    ))\n",
    "    \n",
    "    optimizer = tf.keras.optimizers.SGD(learning_rate=learning_rate) if optimizer == 'SGD' \\\n",
    "             else tf.keras.optimizers.Adam(learning_rate=learning_rate)\n",
    "    \n",
    "    model.compile(loss='sparse_categorical_crossentropy', \n",
    "                optimizer=optimizer, \n",
    "                metrics=['accuracy'])\n",
    "    return model\n"
   ]
  },
  {
   "cell_type": "code",
   "execution_count": 20,
   "id": "531f70ad",
   "metadata": {},
   "outputs": [],
   "source": [
    "\n",
    "input_shape = normalized_train_X.shape[1:]\n",
    "model = build_2d_cnn_model(n_classes=len(classes),\n",
    "                      input_shape=input_shape,\n",
    "                      kernel_sizes=[5],\n",
    "                      activation='relu',\n",
    "                      optimizer='Adam',\n",
    "                      learning_rate=.0005)"
   ]
  },
  {
   "cell_type": "code",
   "execution_count": 29,
   "id": "1c713001",
   "metadata": {},
   "outputs": [],
   "source": [
    "\n",
    "input_shape = normalized_train_X.shape[1:]\n",
    "model = build_2d_cnn_model2(n_classes=len(classes),\n",
    "                      input_shape=input_shape,\n",
    "                      optimizer='Adam',\n",
    "                      learning_rate=.00005)"
   ]
  },
  {
   "cell_type": "code",
   "execution_count": 30,
   "id": "bfa69258",
   "metadata": {},
   "outputs": [
    {
     "name": "stdout",
     "output_type": "stream",
     "text": [
      "Training...\n",
      "Epoch 1/70\n",
      "384/384 [==============================] - 108s 279ms/step - loss: 1.2488 - accuracy: 0.5098 - val_loss: 0.9848 - val_accuracy: 0.6363\n",
      "Epoch 2/70\n",
      "384/384 [==============================] - 92s 238ms/step - loss: 0.9475 - accuracy: 0.6551 - val_loss: 0.8825 - val_accuracy: 0.6801\n",
      "Epoch 3/70\n",
      "384/384 [==============================] - 94s 245ms/step - loss: 0.8454 - accuracy: 0.6929 - val_loss: 0.7909 - val_accuracy: 0.7200\n",
      "Epoch 4/70\n",
      "384/384 [==============================] - 97s 251ms/step - loss: 0.7750 - accuracy: 0.7250 - val_loss: 0.7503 - val_accuracy: 0.7358\n",
      "Epoch 5/70\n",
      "384/384 [==============================] - 84s 218ms/step - loss: 0.7194 - accuracy: 0.7380 - val_loss: 0.7083 - val_accuracy: 0.7499\n",
      "Epoch 6/70\n",
      "384/384 [==============================] - 85s 223ms/step - loss: 0.6764 - accuracy: 0.7539 - val_loss: 0.7032 - val_accuracy: 0.7438\n",
      "Epoch 7/70\n",
      "384/384 [==============================] - 93s 241ms/step - loss: 0.6382 - accuracy: 0.7700 - val_loss: 0.7188 - val_accuracy: 0.7394\n",
      "Epoch 8/70\n",
      "384/384 [==============================] - 95s 249ms/step - loss: 0.6075 - accuracy: 0.7825 - val_loss: 0.6418 - val_accuracy: 0.7667\n",
      "Epoch 9/70\n",
      "384/384 [==============================] - 84s 218ms/step - loss: 0.5865 - accuracy: 0.7899 - val_loss: 0.6207 - val_accuracy: 0.7790\n",
      "Epoch 10/70\n",
      "384/384 [==============================] - 84s 220ms/step - loss: 0.5632 - accuracy: 0.8006 - val_loss: 0.6003 - val_accuracy: 0.7843\n",
      "Epoch 11/70\n",
      "384/384 [==============================] - 104s 270ms/step - loss: 0.5375 - accuracy: 0.8072 - val_loss: 0.6055 - val_accuracy: 0.7796\n",
      "Epoch 12/70\n",
      "384/384 [==============================] - 99s 258ms/step - loss: 0.5258 - accuracy: 0.8132 - val_loss: 0.5896 - val_accuracy: 0.7851\n",
      "Epoch 13/70\n",
      "384/384 [==============================] - 96s 250ms/step - loss: 0.5053 - accuracy: 0.8228 - val_loss: 0.6045 - val_accuracy: 0.7840\n",
      "Epoch 14/70\n",
      "384/384 [==============================] - 91s 238ms/step - loss: 0.4922 - accuracy: 0.8266 - val_loss: 0.5803 - val_accuracy: 0.7901\n",
      "Epoch 15/70\n",
      "384/384 [==============================] - 80s 209ms/step - loss: 0.4756 - accuracy: 0.8312 - val_loss: 0.5915 - val_accuracy: 0.7878\n",
      "Epoch 16/70\n",
      "384/384 [==============================] - 215s 560ms/step - loss: 0.4597 - accuracy: 0.8397 - val_loss: 0.5586 - val_accuracy: 0.8054\n",
      "Epoch 17/70\n",
      "384/384 [==============================] - 89s 233ms/step - loss: 0.4344 - accuracy: 0.8458 - val_loss: 0.5766 - val_accuracy: 0.8028\n",
      "Epoch 18/70\n",
      "384/384 [==============================] - 85s 223ms/step - loss: 0.4282 - accuracy: 0.8506 - val_loss: 0.5563 - val_accuracy: 0.8054\n",
      "Epoch 19/70\n",
      "384/384 [==============================] - 89s 232ms/step - loss: 0.4141 - accuracy: 0.8557 - val_loss: 0.5536 - val_accuracy: 0.8107\n",
      "Epoch 20/70\n",
      "384/384 [==============================] - 91s 238ms/step - loss: 0.4013 - accuracy: 0.8614 - val_loss: 0.5686 - val_accuracy: 0.7960\n",
      "Epoch 21/70\n",
      "384/384 [==============================] - 82s 215ms/step - loss: 0.3938 - accuracy: 0.8659 - val_loss: 0.5387 - val_accuracy: 0.8148\n",
      "Epoch 22/70\n",
      "384/384 [==============================] - 83s 216ms/step - loss: 0.3777 - accuracy: 0.8690 - val_loss: 0.5479 - val_accuracy: 0.8031\n",
      "Epoch 23/70\n",
      "384/384 [==============================] - 88s 229ms/step - loss: 0.3613 - accuracy: 0.8752 - val_loss: 0.5587 - val_accuracy: 0.8148\n",
      "Epoch 24/70\n",
      "384/384 [==============================] - 87s 227ms/step - loss: 0.3517 - accuracy: 0.8787 - val_loss: 0.5535 - val_accuracy: 0.8039\n",
      "Epoch 25/70\n",
      "384/384 [==============================] - 88s 228ms/step - loss: 0.3490 - accuracy: 0.8799 - val_loss: 0.5408 - val_accuracy: 0.8133\n",
      "Epoch 26/70\n",
      "384/384 [==============================] - 88s 228ms/step - loss: 0.3327 - accuracy: 0.8867 - val_loss: 0.5825 - val_accuracy: 0.7893\n",
      "Epoch 27/70\n",
      "384/384 [==============================] - 88s 228ms/step - loss: 0.3232 - accuracy: 0.8892 - val_loss: 0.5300 - val_accuracy: 0.8183\n",
      "Epoch 28/70\n",
      "384/384 [==============================] - 88s 228ms/step - loss: 0.3123 - accuracy: 0.8952 - val_loss: 0.5237 - val_accuracy: 0.8230\n",
      "Epoch 29/70\n",
      "384/384 [==============================] - 88s 229ms/step - loss: 0.3087 - accuracy: 0.8926 - val_loss: 0.5388 - val_accuracy: 0.8218\n",
      "Epoch 30/70\n",
      "384/384 [==============================] - 88s 230ms/step - loss: 0.3022 - accuracy: 0.8956 - val_loss: 0.5197 - val_accuracy: 0.8213\n",
      "Epoch 31/70\n",
      "384/384 [==============================] - 89s 233ms/step - loss: 0.2935 - accuracy: 0.8961 - val_loss: 0.5527 - val_accuracy: 0.8154\n",
      "Epoch 32/70\n",
      "384/384 [==============================] - 89s 231ms/step - loss: 0.2796 - accuracy: 0.9030 - val_loss: 0.5274 - val_accuracy: 0.8210\n",
      "Epoch 33/70\n",
      "384/384 [==============================] - 91s 238ms/step - loss: 0.2720 - accuracy: 0.9091 - val_loss: 0.6094 - val_accuracy: 0.8089\n",
      "Epoch 34/70\n",
      "384/384 [==============================] - 91s 236ms/step - loss: 0.2692 - accuracy: 0.9075 - val_loss: 0.5233 - val_accuracy: 0.8230\n",
      "Epoch 35/70\n",
      "384/384 [==============================] - 91s 237ms/step - loss: 0.2541 - accuracy: 0.9131 - val_loss: 0.5511 - val_accuracy: 0.8107\n",
      "Epoch 36/70\n",
      "384/384 [==============================] - 91s 236ms/step - loss: 0.2489 - accuracy: 0.9152 - val_loss: 0.5342 - val_accuracy: 0.8151\n",
      "Epoch 37/70\n",
      "384/384 [==============================] - 352s 919ms/step - loss: 0.2336 - accuracy: 0.9216 - val_loss: 0.5549 - val_accuracy: 0.8160\n",
      "Epoch 38/70\n",
      "384/384 [==============================] - 444s 1s/step - loss: 0.2364 - accuracy: 0.9207 - val_loss: 0.5225 - val_accuracy: 0.8268\n",
      "Epoch 39/70\n",
      "384/384 [==============================] - 947s 2s/step - loss: 0.2238 - accuracy: 0.9247 - val_loss: 0.5640 - val_accuracy: 0.8174\n",
      "Epoch 40/70\n",
      "384/384 [==============================] - 90s 235ms/step - loss: 0.2268 - accuracy: 0.9226 - val_loss: 0.5410 - val_accuracy: 0.8207\n",
      "Epoch 41/70\n",
      "384/384 [==============================] - 89s 233ms/step - loss: 0.2088 - accuracy: 0.9308 - val_loss: 0.5469 - val_accuracy: 0.8189\n",
      "Epoch 42/70\n",
      "384/384 [==============================] - 89s 233ms/step - loss: 0.2069 - accuracy: 0.9317 - val_loss: 0.5685 - val_accuracy: 0.8195\n",
      "Epoch 43/70\n",
      "384/384 [==============================] - 91s 238ms/step - loss: 0.1992 - accuracy: 0.9339 - val_loss: 0.5550 - val_accuracy: 0.8201\n",
      "Epoch 44/70\n",
      "384/384 [==============================] - 90s 235ms/step - loss: 0.1959 - accuracy: 0.9340 - val_loss: 0.5363 - val_accuracy: 0.8265\n",
      "Epoch 45/70\n",
      "384/384 [==============================] - 91s 236ms/step - loss: 0.1839 - accuracy: 0.9413 - val_loss: 0.5757 - val_accuracy: 0.8207\n",
      "Epoch 46/70\n",
      "384/384 [==============================] - 1084s 3s/step - loss: 0.1788 - accuracy: 0.9416 - val_loss: 0.5637 - val_accuracy: 0.8189\n",
      "Epoch 47/70\n",
      "384/384 [==============================] - 1591s 4s/step - loss: 0.1757 - accuracy: 0.9418 - val_loss: 0.5644 - val_accuracy: 0.8257\n",
      "Epoch 48/70\n",
      "384/384 [==============================] - 262s 684ms/step - loss: 0.1750 - accuracy: 0.9407 - val_loss: 0.5892 - val_accuracy: 0.8142\n",
      "Epoch 49/70\n",
      "384/384 [==============================] - 253s 658ms/step - loss: 0.1638 - accuracy: 0.9453 - val_loss: 0.5552 - val_accuracy: 0.8262\n",
      "Epoch 50/70\n",
      "384/384 [==============================] - 260s 678ms/step - loss: 0.1570 - accuracy: 0.9488 - val_loss: 0.5636 - val_accuracy: 0.8251\n",
      "Epoch 51/70\n",
      "384/384 [==============================] - 257s 668ms/step - loss: 0.1527 - accuracy: 0.9520 - val_loss: 0.5981 - val_accuracy: 0.8213\n",
      "Epoch 52/70\n",
      "384/384 [==============================] - 259s 673ms/step - loss: 0.1437 - accuracy: 0.9543 - val_loss: 0.5770 - val_accuracy: 0.8259\n",
      "Epoch 53/70\n",
      "384/384 [==============================] - 254s 661ms/step - loss: 0.1468 - accuracy: 0.9511 - val_loss: 0.5732 - val_accuracy: 0.8257\n",
      "Epoch 54/70\n",
      "384/384 [==============================] - 246s 641ms/step - loss: 0.1378 - accuracy: 0.9561 - val_loss: 0.5880 - val_accuracy: 0.8230\n",
      "Epoch 55/70\n",
      "384/384 [==============================] - 240s 625ms/step - loss: 0.1401 - accuracy: 0.9564 - val_loss: 0.6052 - val_accuracy: 0.8201\n",
      "Epoch 56/70\n",
      "384/384 [==============================] - 243s 633ms/step - loss: 0.1306 - accuracy: 0.9569 - val_loss: 0.5928 - val_accuracy: 0.8274\n",
      "Epoch 57/70\n",
      "384/384 [==============================] - 242s 632ms/step - loss: 0.1276 - accuracy: 0.9594 - val_loss: 0.6052 - val_accuracy: 0.8306\n",
      "Epoch 58/70\n",
      "384/384 [==============================] - 244s 635ms/step - loss: 0.1195 - accuracy: 0.9613 - val_loss: 0.6469 - val_accuracy: 0.8198\n",
      "Epoch 59/70\n",
      "384/384 [==============================] - 240s 625ms/step - loss: 0.1240 - accuracy: 0.9588 - val_loss: 0.5984 - val_accuracy: 0.8257\n",
      "Epoch 60/70\n",
      "384/384 [==============================] - 1156s 3s/step - loss: 0.1118 - accuracy: 0.9669 - val_loss: 0.6074 - val_accuracy: 0.8268\n",
      "Epoch 61/70\n",
      "384/384 [==============================] - 1208s 3s/step - loss: 0.1104 - accuracy: 0.9659 - val_loss: 0.5941 - val_accuracy: 0.8306\n",
      "Epoch 62/70\n",
      "384/384 [==============================] - 245s 639ms/step - loss: 0.1051 - accuracy: 0.9665 - val_loss: 0.6384 - val_accuracy: 0.8245\n",
      "Epoch 63/70\n",
      "384/384 [==============================] - 260s 677ms/step - loss: 0.1083 - accuracy: 0.9655 - val_loss: 0.6194 - val_accuracy: 0.8277\n",
      "Epoch 64/70\n",
      "384/384 [==============================] - 248s 647ms/step - loss: 0.1058 - accuracy: 0.9668 - val_loss: 0.6509 - val_accuracy: 0.8177\n",
      "Epoch 65/70\n",
      "384/384 [==============================] - 261s 681ms/step - loss: 0.0965 - accuracy: 0.9692 - val_loss: 0.6193 - val_accuracy: 0.8292\n",
      "Epoch 66/70\n",
      "384/384 [==============================] - 248s 646ms/step - loss: 0.0986 - accuracy: 0.9693 - val_loss: 0.6226 - val_accuracy: 0.8274\n",
      "Epoch 67/70\n",
      "384/384 [==============================] - 269s 701ms/step - loss: 0.0918 - accuracy: 0.9724 - val_loss: 0.6353 - val_accuracy: 0.8315\n",
      "Epoch 68/70\n",
      "384/384 [==============================] - 994s 3s/step - loss: 0.0903 - accuracy: 0.9729 - val_loss: 0.6465 - val_accuracy: 0.8259\n",
      "Epoch 69/70\n",
      "384/384 [==============================] - 2604s 7s/step - loss: 0.0840 - accuracy: 0.9740 - val_loss: 0.6525 - val_accuracy: 0.8257\n",
      "Epoch 70/70\n",
      "384/384 [==============================] - 251s 654ms/step - loss: 0.0819 - accuracy: 0.9754 - val_loss: 0.6608 - val_accuracy: 0.8254\n"
     ]
    }
   ],
   "source": [
    "print('Training...')\n",
    "n_epochs = 70\n",
    "history = model.fit(\n",
    "    x=train_X,\n",
    "    y=train_Y,\n",
    "    epochs=n_epochs,\n",
    "    batch_size=32,\n",
    "    validation_data=(val_X, val_Y),\n",
    "    # validation_split=0.10,\n",
    "    verbose=True)"
   ]
  },
  {
   "cell_type": "code",
   "execution_count": 33,
   "id": "3e3dab86",
   "metadata": {},
   "outputs": [
    {
     "name": "stdout",
     "output_type": "stream",
     "text": [
      "Model: \"sequential\"\n",
      "_________________________________________________________________\n",
      " Layer (type)                Output Shape              Param #   \n",
      "=================================================================\n",
      " rescaling (Rescaling)       (None, 150, 150, 3)       0         \n",
      "                                                                 \n",
      " conv2d (Conv2D)             (None, 150, 150, 16)      448       \n",
      "                                                                 \n",
      " max_pooling2d (MaxPooling2D  (None, 75, 75, 16)       0         \n",
      " )                                                               \n",
      "                                                                 \n",
      " conv2d_1 (Conv2D)           (None, 75, 75, 32)        4640      \n",
      "                                                                 \n",
      " max_pooling2d_1 (MaxPooling  (None, 37, 37, 32)       0         \n",
      " 2D)                                                             \n",
      "                                                                 \n",
      " conv2d_2 (Conv2D)           (None, 37, 37, 64)        18496     \n",
      "                                                                 \n",
      " max_pooling2d_2 (MaxPooling  (None, 18, 18, 64)       0         \n",
      " 2D)                                                             \n",
      "                                                                 \n",
      " dropout (Dropout)           (None, 18, 18, 64)        0         \n",
      "                                                                 \n",
      " flatten (Flatten)           (None, 20736)             0         \n",
      "                                                                 \n",
      " dense (Dense)               (None, 128)               2654336   \n",
      "                                                                 \n",
      " dense_1 (Dense)             (None, 6)                 774       \n",
      "                                                                 \n",
      " dense_2 (Dense)             (None, 6)                 42        \n",
      "                                                                 \n",
      "=================================================================\n",
      "Total params: 2,678,736\n",
      "Trainable params: 2,678,736\n",
      "Non-trainable params: 0\n",
      "_________________________________________________________________\n",
      "None\n"
     ]
    }
   ],
   "source": [
    "model.build()\n",
    "\n",
    "print(model.summary())"
   ]
  },
  {
   "cell_type": "code",
   "execution_count": 34,
   "id": "e2e70ac0",
   "metadata": {},
   "outputs": [
    {
     "data": {
      "image/png": "[encoded data removed]",
      "text/plain": [
       "<Figure size 640x480 with 1 Axes>"
      ]
     },
     "metadata": {},
     "output_type": "display_data"
    },
    {
     "name": "stdout",
     "output_type": "stream",
     "text": [
      "0.8121790289878845\n"
     ]
    }
   ],
   "source": [
    "train_accuracy = history.history['accuracy']\n",
    "val_accuracy = history.history['val_accuracy']\n",
    "plt.plot(train_accuracy, label='train_accuracy')\n",
    "plt.plot(val_accuracy, label='validation accuracy')\n",
    "plt.xticks(range(n_epochs))\n",
    "plt.xlabel('Train epochs')\n",
    "plt.legend()\n",
    "plt.show()\n",
    "\n",
    "model_eval = model.evaluate(x=test_X, y=test_Y, verbose=0,\n",
    "                             return_dict=True)\n",
    "\n",
    "test_accuracy = model_eval['accuracy']\n",
    "print(test_accuracy)"
   ]
  },
  {
   "cell_type": "code",
   "execution_count": null,
   "id": "5155a487",
   "metadata": {},
   "outputs": [],
   "source": []
  }
 ],
 "metadata": {
  "kernelspec": {
   "display_name": "Python 3.9.9 64-bit",
   "language": "python",
   "name": "python3"
  },
  "language_info": {
   "codemirror_mode": {
    "name": "ipython",
    "version": 3
   },
   "file_extension": ".py",
   "mimetype": "text/x-python",
   "name": "python",
   "nbconvert_exporter": "python",
   "pygments_lexer": "ipython3",
   "version": "3.9.9"
  },
  "vscode": {
   "interpreter": {
    "hash": "aee8b7b246df8f9039afb4144a1f6fd8d2ca17a180786b69acc140d282b71a49"
   }
  }
 },
 "nbformat": 4,
 "nbformat_minor": 5
}
