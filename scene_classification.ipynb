{
 "cells": [
  {
   "cell_type": "markdown",
   "id": "eb3a0717-f222-4675-a6e5-4c9c5f14a74d",
   "metadata": {},
   "source": [
    "Goal: a scene classification model that classifies an image to one of 6 labels:\n",
    "- Buildings\n",
    "- Forests\n",
    "- Mountains\n",
    "- Glacier\n",
    "- Street\n",
    "- Sea\n",
    "\n",
    "Dataset: https://www.kaggle.com/datasets/nitishabharathi/scene-classification?resource=download&select=train-scene+classification"
   ]
  },
  {
   "cell_type": "code",
   "execution_count": 1,
   "id": "3c79f0cb-ac68-4603-8ccf-4b3f2b3e2040",
   "metadata": {},
   "outputs": [
    {
     "name": "stderr",
     "output_type": "stream",
     "text": [
      "/Users/ktnorton/anaconda3/envs/w207/lib/python3.8/site-packages/scipy/__init__.py:146: UserWarning: A NumPy version >=1.16.5 and <1.23.0 is required for this version of SciPy (detected version 1.23.1\n",
      "  warnings.warn(f\"A NumPy version >={np_minversion} and <{np_maxversion}\"\n",
      "2022-10-17 17:30:33.324313: I tensorflow/core/platform/cpu_feature_guard.cc:193] This TensorFlow binary is optimized with oneAPI Deep Neural Network Library (oneDNN) to use the following CPU instructions in performance-critical operations:  AVX2 FMA\n",
      "To enable them in other operations, rebuild TensorFlow with the appropriate compiler flags.\n"
     ]
    }
   ],
   "source": [
    "# Import the libraries we'll use below.\n",
    "import numpy as np\n",
    "from matplotlib import pyplot as plt\n",
    "import pandas as pd\n",
    "import seaborn as sns  # for nicer plots\n",
    "sns.set(style=\"darkgrid\")  # default style\n",
    "\n",
    "import tensorflow as tf\n",
    "from tensorflow import keras\n",
    "from keras import metrics\n",
    "tf.get_logger().setLevel('INFO')"
   ]
  },
  {
   "cell_type": "markdown",
   "id": "c391db47-3e23-4ace-b8a7-40320cce9a37",
   "metadata": {},
   "source": [
    "## Load data"
   ]
  },
  {
   "cell_type": "code",
   "execution_count": 2,
   "id": "4c4cc43b-f32c-41af-a4f9-52bb00aa8c55",
   "metadata": {},
   "outputs": [],
   "source": [
    "from PIL import Image\n",
    "\n",
    "def generate_xy(df):\n",
    "    X = []\n",
    "    for i in df['image_name'].values:\n",
    "        img = Image.open(f'train-scene classification/train/{i}')\n",
    "        img_arr = np.array(img)\n",
    "        if img_arr.shape[0] == 150:\n",
    "            X.append(np.array(img))\n",
    "        else:\n",
    "            X.append(np.array(img.resize((150,150))))\n",
    "\n",
    "    X = np.array(X)\n",
    "    Y = df['label'].values\n",
    "    \n",
    "    return X, Y"
   ]
  },
  {
   "cell_type": "code",
   "execution_count": 35,
   "id": "21c03b48-f27b-400c-b0c0-56abf35a7947",
   "metadata": {},
   "outputs": [],
   "source": [
    "samples_df = pd.read_csv('train-scene classification/train.csv')\n",
    "\n",
    "val_df = samples_df.sample(frac=.2)\n",
    "test_df = samples_df[~samples_df.index.isin(val_df.index)].sample(frac=.1)\n",
    "train_df = samples_df[~samples_df.index.isin(val_df.index) & ~samples_df.index.isin(test_df.index)]"
   ]
  },
  {
   "cell_type": "code",
   "execution_count": 41,
   "id": "4c4a6c00-8f39-46c3-bec4-bd58d275a688",
   "metadata": {},
   "outputs": [
    {
     "data": {
      "text/plain": [
       "17034"
      ]
     },
     "execution_count": 41,
     "metadata": {},
     "output_type": "execute_result"
    }
   ],
   "source": [
    "train_df.shape[0] + val_df.shape[0] + test_df.shape[0]"
   ]
  },
  {
   "cell_type": "code",
   "execution_count": 40,
   "id": "a1adf893-b9d9-43fb-a989-9ff545e1dcbc",
   "metadata": {},
   "outputs": [
    {
     "data": {
      "text/plain": [
       "17034"
      ]
     },
     "execution_count": 40,
     "metadata": {},
     "output_type": "execute_result"
    }
   ],
   "source": [
    "samples_df.shape[0]"
   ]
  },
  {
   "cell_type": "code",
   "execution_count": 42,
   "id": "9614ff88-5c9c-42e1-867f-84639e70b9f3",
   "metadata": {},
   "outputs": [],
   "source": [
    "train_X, train_Y = generate_xy(train_df)\n",
    "val_X, val_Y = generate_xy(val_df)\n",
    "test_X, test_Y = generate_xy(test_df)"
   ]
  },
  {
   "cell_type": "markdown",
   "id": "1f60296f-26ff-4182-adec-1711619c0bbd",
   "metadata": {},
   "source": [
    "## Exploratory Data Analysis"
   ]
  },
  {
   "cell_type": "code",
   "execution_count": 16,
   "id": "ff6c5c93-db65-4872-89e3-fdaa4b1a16eb",
   "metadata": {},
   "outputs": [],
   "source": [
    "import matplotlib.pyplot as plt\n",
    "import seaborn as sns"
   ]
  },
  {
   "cell_type": "code",
   "execution_count": 14,
   "id": "a2604eb0-ebb1-4005-99ee-c8134a95cf35",
   "metadata": {},
   "outputs": [
    {
     "data": {
      "text/plain": [
       "array([0, 4, 5, 1, 2, 3])"
      ]
     },
     "execution_count": 14,
     "metadata": {},
     "output_type": "execute_result"
    }
   ],
   "source": [
    "classes = samples_df['label'].unique()\n",
    "classes"
   ]
  },
  {
   "cell_type": "markdown",
   "id": "ed84b649-3698-4b67-8859-2480c59ca6e3",
   "metadata": {},
   "source": [
    "### Check class balance across train/val dataset"
   ]
  },
  {
   "cell_type": "markdown",
   "id": "d066354e-e430-4125-b405-0eb3ebf9edd7",
   "metadata": {},
   "source": [
    "#### Whole dataset"
   ]
  },
  {
   "cell_type": "code",
   "execution_count": 28,
   "id": "aac02cbd-9787-4e08-9907-8369ee5484a6",
   "metadata": {},
   "outputs": [
    {
     "data": {
      "text/plain": [
       "<AxesSubplot:xlabel='label', ylabel='counts'>"
      ]
     },
     "execution_count": 28,
     "metadata": {},
     "output_type": "execute_result"
    },
    {
     "data": {
      "image/png": "[encoded data removed]",
      "text/plain": [
       "<Figure size 432x288 with 1 Axes>"
      ]
     },
     "metadata": {},
     "output_type": "display_data"
    }
   ],
   "source": [
    "class_counts = samples_df.groupby(by='label').count().reset_index()\n",
    "class_counts.rename(columns={'image_name':'counts'}, inplace=True)\n",
    "sns.barplot(x='label', y='counts', data=class_counts) "
   ]
  },
  {
   "cell_type": "markdown",
   "id": "a14e00e8-55ed-4bf2-bc52-1fbcdffb62c0",
   "metadata": {},
   "source": [
    "#### Train dataset"
   ]
  },
  {
   "cell_type": "code",
   "execution_count": 45,
   "id": "8ea3796a-2264-4fb5-bc1c-0fdf955ec13d",
   "metadata": {},
   "outputs": [
    {
     "data": {
      "text/plain": [
       "<AxesSubplot:xlabel='label', ylabel='counts'>"
      ]
     },
     "execution_count": 45,
     "metadata": {},
     "output_type": "execute_result"
    },
    {
     "data": {
      "image/png": "[encoded data removed]",
      "text/plain": [
       "<Figure size 432x288 with 1 Axes>"
      ]
     },
     "metadata": {},
     "output_type": "display_data"
    }
   ],
   "source": [
    "train_class_counts = train_df.groupby(by='label').count().reset_index()\n",
    "train_class_counts.rename(columns={'image_name':'counts'}, inplace=True)\n",
    "sns.barplot(x='label', y='counts', data=train_class_counts) "
   ]
  },
  {
   "cell_type": "markdown",
   "id": "0230a719-8d8c-41a9-9fc9-347e3fe0fc1c",
   "metadata": {},
   "source": [
    "#### Val dataset"
   ]
  },
  {
   "cell_type": "code",
   "execution_count": 44,
   "id": "a2f9f3a6-d22e-4ee2-a015-8781df43fed6",
   "metadata": {},
   "outputs": [
    {
     "data": {
      "text/plain": [
       "<AxesSubplot:xlabel='label', ylabel='counts'>"
      ]
     },
     "execution_count": 44,
     "metadata": {},
     "output_type": "execute_result"
    },
    {
     "data": {
      "image/png": "[encoded data removed]",
      "text/plain": [
       "<Figure size 432x288 with 1 Axes>"
      ]
     },
     "metadata": {},
     "output_type": "display_data"
    }
   ],
   "source": [
    "val_class_counts = val_df.groupby(by='label').count().reset_index()\n",
    "val_class_counts.rename(columns={'image_name':'counts'}, inplace=True)\n",
    "sns.barplot(x='label', y='counts', data=val_class_counts) "
   ]
  },
  {
   "cell_type": "markdown",
   "id": "ed406d6b-2130-4a94-b946-ea5299fdca19",
   "metadata": {},
   "source": [
    "#### Test dataset"
   ]
  },
  {
   "cell_type": "code",
   "execution_count": 43,
   "id": "0eaa356a-57d0-4101-a418-0bbd0f317483",
   "metadata": {},
   "outputs": [
    {
     "data": {
      "text/plain": [
       "<AxesSubplot:xlabel='label', ylabel='counts'>"
      ]
     },
     "execution_count": 43,
     "metadata": {},
     "output_type": "execute_result"
    },
    {
     "data": {
      "image/png": "[encoded data removed]",
      "text/plain": [
       "<Figure size 432x288 with 1 Axes>"
      ]
     },
     "metadata": {},
     "output_type": "display_data"
    }
   ],
   "source": [
    "test_class_counts = test_df.groupby(by='label').count().reset_index()\n",
    "test_class_counts.rename(columns={'image_name':'counts'}, inplace=True)\n",
    "sns.barplot(x='label', y='counts', data=test_class_counts) "
   ]
  },
  {
   "cell_type": "markdown",
   "id": "3d7d43d0-fb93-4df9-8c66-6b0def72b377",
   "metadata": {},
   "source": [
    "## Train Model"
   ]
  },
  {
   "cell_type": "code",
   "execution_count": 54,
   "id": "52b7b247-7646-4839-867b-936878a8b6b5",
   "metadata": {},
   "outputs": [],
   "source": [
    "def build_model(n_classes,\n",
    "                hidden_layer_sizes=[],\n",
    "                activation='relu',\n",
    "                optimizer='SGD',\n",
    "                learning_rate=0.01):\n",
    "    \"\"\"Build a multi-class logistic regression model using Keras.\n",
    "\n",
    "    Args:\n",
    "    n_classes: Number of output classes in the dataset.\n",
    "    hidden_layer_sizes: A list with the number of units in each hidden layer.\n",
    "    activation: The activation function to use for the hidden layers.\n",
    "    optimizer: The optimizer to use (SGD, Adam).\n",
    "    learning_rate: The desired learning rate for the optimizer.\n",
    "\n",
    "    Returns:\n",
    "    model: A tf.keras model (graph).\n",
    "    \"\"\"\n",
    "    tf.keras.backend.clear_session()\n",
    "    np.random.seed(0)\n",
    "    tf.random.set_seed(0)\n",
    "\n",
    "    model = keras.Sequential()\n",
    "    for layer_size in hidden_layer_sizes:\n",
    "        \n",
    "        model.add(keras.layers.Dense(\n",
    "          units=layer_size,\n",
    "          activation=activation,\n",
    "        ))\n",
    "    model.add(keras.layers.Flatten())\n",
    "    model.add(keras.layers.Dense(\n",
    "      units=n_classes,\n",
    "      activation='softmax'\n",
    "    ))\n",
    "    \n",
    "    \n",
    "    optimizer = tf.keras.optimizers.SGD(learning_rate=learning_rate) if optimizer == 'SGD' \\\n",
    "             else tf.keras.optimizers.Adam(learning_rate=learning_rate)\n",
    "    \n",
    "    model.compile(loss='sparse_categorical_crossentropy', \n",
    "                optimizer=optimizer, \n",
    "                metrics=['accuracy'])\n",
    "    return model"
   ]
  },
  {
   "cell_type": "code",
   "execution_count": 69,
   "id": "8ab3b213-0b53-46a7-8a77-ea5862c12f78",
   "metadata": {},
   "outputs": [],
   "source": [
    "model = build_model(n_classes=len(classes),\n",
    "                      hidden_layer_sizes=[],\n",
    "                      activation='relu',\n",
    "                      optimizer='Adam',\n",
    "                      learning_rate=.0005)"
   ]
  },
  {
   "cell_type": "code",
   "execution_count": 76,
   "id": "b3c31a8c-f589-4f6a-a2d1-902c6f6d4e3e",
   "metadata": {},
   "outputs": [
    {
     "name": "stdout",
     "output_type": "stream",
     "text": [
      "Training...\n"
     ]
    }
   ],
   "source": [
    "print('Training...')\n",
    "n_epochs = 20\n",
    "history = model.fit(\n",
    "    x=train_X,\n",
    "    y=train_Y,\n",
    "    epochs=n_epochs,\n",
    "    batch_size=16,\n",
    "    validation_data=(val_X, val_Y),\n",
    "    # validation_split=0.10,\n",
    "    verbose=0)"
   ]
  },
  {
   "cell_type": "code",
   "execution_count": 77,
   "id": "00ad002f-b4ed-46f5-ba82-7badebfb4014",
   "metadata": {},
   "outputs": [
    {
     "data": {
      "image/png": "[encoded data removed]",
      "text/plain": [
       "<Figure size 432x288 with 1 Axes>"
      ]
     },
     "metadata": {},
     "output_type": "display_data"
    },
    {
     "name": "stdout",
     "output_type": "stream",
     "text": [
      "0.40425533056259155\n"
     ]
    }
   ],
   "source": [
    "train_accuracy = history.history['accuracy']\n",
    "val_accuracy = history.history['val_accuracy']\n",
    "plt.plot(train_accuracy, label='train_accuracy')\n",
    "plt.plot(val_accuracy, label='validation accuracy')\n",
    "plt.xticks(range(n_epochs))\n",
    "plt.xlabel('Train epochs')\n",
    "plt.legend()\n",
    "plt.show()\n",
    "\n",
    "model_eval = model.evaluate(x=test_X, y=test_Y, verbose=0,\n",
    "                             return_dict=True)\n",
    "\n",
    "test_accuracy = model_eval['accuracy']\n",
    "print(test_accuracy)"
   ]
  },
  {
   "cell_type": "code",
   "execution_count": null,
   "id": "86fec24b-4218-4a5e-b736-ca6238ba106f",
   "metadata": {},
   "outputs": [],
   "source": []
  }
 ],
 "metadata": {
  "kernelspec": {
   "display_name": "Python 3 (ipykernel)",
   "language": "python",
   "name": "python3"
  },
  "language_info": {
   "codemirror_mode": {
    "name": "ipython",
    "version": 3
   },
   "file_extension": ".py",
   "mimetype": "text/x-python",
   "name": "python",
   "nbconvert_exporter": "python",
   "pygments_lexer": "ipython3",
   "version": "3.8.13"
  }
 },
 "nbformat": 4,
 "nbformat_minor": 5
}
