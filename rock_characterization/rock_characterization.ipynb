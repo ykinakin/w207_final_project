{
 "cells": [
  {
   "cell_type": "code",
   "execution_count": 1,
   "id": "416eb157",
   "metadata": {},
   "outputs": [],
   "source": [
    "# Import the libraries we'll use below.\n",
    "import matplotlib.image as mpimg\n",
    "import numpy as np\n",
    "import pandas as pd\n",
    "import seaborn as sns  # for nicer plots\n",
    "import tensorflow as tf\n",
    "\n",
    "from matplotlib import pyplot as plt\n",
    "from keras.preprocessing.image import ImageDataGenerator\n",
    "from keras import metrics\n",
    "from tensorflow import keras\n",
    "\n",
    "sns.set(style=\"darkgrid\")  # default style\n",
    "tf.get_logger().setLevel('INFO')"
   ]
  },
  {
   "cell_type": "code",
   "execution_count": 2,
   "id": "c482f201",
   "metadata": {},
   "outputs": [
    {
     "name": "stderr",
     "output_type": "stream",
     "text": [
      "2022-10-09 10:09:08.191398: I tensorflow/core/platform/cpu_feature_guard.cc:193] This TensorFlow binary is optimized with oneAPI Deep Neural Network Library (oneDNN) to use the following CPU instructions in performance-critical operations:  AVX2 FMA\n",
      "To enable them in other operations, rebuild TensorFlow with the appropriate compiler flags.\n",
      "2022-10-09 10:09:08.244064: I tensorflow/stream_executor/cuda/cuda_gpu_executor.cc:975] successful NUMA node read from SysFS had negative value (-1), but there must be at least one NUMA node, so returning NUMA node zero\n",
      "2022-10-09 10:09:08.246883: I tensorflow/stream_executor/cuda/cuda_gpu_executor.cc:975] successful NUMA node read from SysFS had negative value (-1), but there must be at least one NUMA node, so returning NUMA node zero\n",
      "2022-10-09 10:09:08.247010: I tensorflow/stream_executor/cuda/cuda_gpu_executor.cc:975] successful NUMA node read from SysFS had negative value (-1), but there must be at least one NUMA node, so returning NUMA node zero\n",
      "2022-10-09 10:09:08.533115: I tensorflow/stream_executor/cuda/cuda_gpu_executor.cc:975] successful NUMA node read from SysFS had negative value (-1), but there must be at least one NUMA node, so returning NUMA node zero\n",
      "2022-10-09 10:09:08.533276: I tensorflow/stream_executor/cuda/cuda_gpu_executor.cc:975] successful NUMA node read from SysFS had negative value (-1), but there must be at least one NUMA node, so returning NUMA node zero\n",
      "2022-10-09 10:09:08.533388: I tensorflow/stream_executor/cuda/cuda_gpu_executor.cc:975] successful NUMA node read from SysFS had negative value (-1), but there must be at least one NUMA node, so returning NUMA node zero\n",
      "2022-10-09 10:09:08.533481: I tensorflow/core/common_runtime/gpu/gpu_device.cc:1532] Created device /job:localhost/replica:0/task:0/device:GPU:0 with 21533 MB memory:  -> device: 0, name: NVIDIA GeForce RTX 3090, pci bus id: 0000:09:00.0, compute capability: 8.6\n"
     ]
    }
   ],
   "source": [
    "config = tf.compat.v1.ConfigProto()\n",
    "config.gpu_options.allow_growth = True\n",
    "sess = tf.compat.v1.Session(config=config)"
   ]
  },
  {
   "cell_type": "code",
   "execution_count": 3,
   "id": "c97dadd8",
   "metadata": {},
   "outputs": [
    {
     "name": "stderr",
     "output_type": "stream",
     "text": [
      "2022-10-09 10:09:08.537570: I tensorflow/stream_executor/cuda/cuda_gpu_executor.cc:975] successful NUMA node read from SysFS had negative value (-1), but there must be at least one NUMA node, so returning NUMA node zero\n",
      "2022-10-09 10:09:08.537691: I tensorflow/stream_executor/cuda/cuda_gpu_executor.cc:975] successful NUMA node read from SysFS had negative value (-1), but there must be at least one NUMA node, so returning NUMA node zero\n",
      "2022-10-09 10:09:08.537787: I tensorflow/stream_executor/cuda/cuda_gpu_executor.cc:975] successful NUMA node read from SysFS had negative value (-1), but there must be at least one NUMA node, so returning NUMA node zero\n"
     ]
    },
    {
     "data": {
      "text/plain": [
       "[PhysicalDevice(name='/physical_device:GPU:0', device_type='GPU')]"
      ]
     },
     "execution_count": 3,
     "metadata": {},
     "output_type": "execute_result"
    }
   ],
   "source": [
    "tf.config.list_physical_devices('GPU') "
   ]
  },
  {
   "cell_type": "code",
   "execution_count": 4,
   "id": "9373844a",
   "metadata": {},
   "outputs": [
    {
     "data": {
      "text/plain": [
       "(28, 28, 3)"
      ]
     },
     "execution_count": 4,
     "metadata": {},
     "output_type": "execute_result"
    },
    {
     "data": {
      "image/png": "[encoded data removed]",
      "text/plain": [
       "<Figure size 432x288 with 1 Axes>"
      ]
     },
     "metadata": {
      "needs_background": "light"
     },
     "output_type": "display_data"
    }
   ],
   "source": [
    "img = mpimg.imread('images/andesite/012L6.jpg')\n",
    "plt.imshow(img)\n",
    "img.shape"
   ]
  },
  {
   "cell_type": "code",
   "execution_count": 5,
   "id": "96b79516",
   "metadata": {},
   "outputs": [],
   "source": [
    "def build_model(n_classes,\n",
    "                hidden_layer_sizes,\n",
    "                act,\n",
    "                opt,\n",
    "                lr):\n",
    "    \"\"\"Build a multi-class logistic regression model using Keras.\n",
    "\n",
    "    Args:\n",
    "    n_classes: Number of output classes in the dataset.\n",
    "    hidden_layer_sizes: A list with the number of units in each hidden layer.\n",
    "    activation: The activation function to use for the hidden layers.\n",
    "    optimizer: The optimizer to use (SGD, Adam).\n",
    "    learning_rate: The desired learning rate for the optimizer.\n",
    "\n",
    "    Returns:\n",
    "    model: A tf.keras model (graph).\n",
    "    \"\"\"\n",
    "    tf.keras.backend.clear_session()\n",
    "    np.random.seed(0)\n",
    "    tf.random.set_seed(0)\n",
    "\n",
    "    model = keras.Sequential()\n",
    "    model.add(keras.layers.Flatten())\n",
    "\n",
    "    for hidden_layer_size in hidden_layer_sizes:\n",
    "        model.add(tf.keras.layers.Dense(\n",
    "            units = hidden_layer_size,\n",
    "            activation = act))\n",
    "\n",
    "    model.add(keras.layers.Dense(\n",
    "      units=n_classes,\n",
    "      activation = 'softmax'\n",
    "    ))\n",
    "    \n",
    "    if opt == 'SGD':\n",
    "        opt = tf.keras.optimizers.SGD(lr)\n",
    "    elif opt == 'Adam':\n",
    "        opt = tf.keras.optimizers.Adam(lr)\n",
    "    else:\n",
    "        raise NameError('You did not select an appropriate optimizer')\n",
    "\n",
    "    model.compile(loss='sparse_categorical_crossentropy', \n",
    "                  optimizer = opt,\n",
    "                  metrics = ['accuracy'])\n",
    "\n",
    "    return model"
   ]
  },
  {
   "cell_type": "code",
   "execution_count": 6,
   "id": "f9bd95a6",
   "metadata": {},
   "outputs": [],
   "source": [
    "def train_and_evaluate(hidden_layer_sizes, activation, optimizer, learning_rate, num_epochs):\n",
    "\n",
    "  # Build the model.\n",
    "  model = build_model(n_classes,\n",
    "                      hidden_layer_sizes,\n",
    "                      activation,\n",
    "                      optimizer,\n",
    "                      learning_rate)\n",
    "\n",
    "  # Train the model.\n",
    "  print('Training...')\n",
    "  history = model.fit_generator(\n",
    "    train_generator,\n",
    "    steps_per_epoch = train_generator.samples // batch_size,\n",
    "    validation_data = validation_generator, \n",
    "    validation_steps = validation_generator.samples // batch_size,\n",
    "    epochs = num_epochs)\n",
    "\n",
    "  # Retrieve the training metrics (after each train epoch) and the final test\n",
    "  # accuracy.\n",
    "  train_accuracy = history.history['accuracy']\n",
    "  val_accuracy = history.history['val_accuracy']\n",
    "  plt.plot(train_accuracy, label='train_accuracy')\n",
    "  plt.plot(val_accuracy, label='validation accuracy')\n",
    "  plt.xticks(range(num_epochs))\n",
    "  plt.xlabel('Train epochs')\n",
    "  plt.legend()\n",
    "  plt.show()"
   ]
  },
  {
   "cell_type": "code",
   "execution_count": 16,
   "id": "f3fc4678",
   "metadata": {},
   "outputs": [],
   "source": [
    "image_generator = ImageDataGenerator(validation_split = 0.2, rescale=1.0/255.0)"
   ]
  },
  {
   "cell_type": "code",
   "execution_count": 17,
   "id": "32e86a82",
   "metadata": {},
   "outputs": [],
   "source": [
    "(img_height, img_width) = (28, 28)\n",
    "data_dir = 'images'\n",
    "batch_size = 512\n",
    "n_classes = 6"
   ]
  },
  {
   "cell_type": "code",
   "execution_count": 18,
   "id": "f9724a4c",
   "metadata": {},
   "outputs": [
    {
     "name": "stdout",
     "output_type": "stream",
     "text": [
      "Found 23999 images belonging to 6 classes.\n",
      "Found 5999 images belonging to 6 classes.\n"
     ]
    }
   ],
   "source": [
    "train_generator = image_generator.flow_from_directory(\n",
    "    data_dir,\n",
    "    target_size=(img_height, img_width),\n",
    "    batch_size=batch_size,\n",
    "    class_mode='binary',\n",
    "    subset='training',\n",
    "    shuffle=True) # set as training data\n",
    "\n",
    "validation_generator = image_generator.flow_from_directory(\n",
    "    data_dir,\n",
    "    target_size=(img_height, img_width),\n",
    "    batch_size=batch_size,\n",
    "    class_mode='binary',\n",
    "    subset='validation',\n",
    "    shuffle=True) # set as validation data"
   ]
  },
  {
   "cell_type": "code",
   "execution_count": 19,
   "id": "4111f067",
   "metadata": {},
   "outputs": [],
   "source": [
    "n_classes = 6"
   ]
  },
  {
   "cell_type": "code",
   "execution_count": 20,
   "id": "80c4a716",
   "metadata": {},
   "outputs": [
    {
     "name": "stdout",
     "output_type": "stream",
     "text": [
      "Training...\n",
      "Epoch 1/20\n"
     ]
    },
    {
     "name": "stderr",
     "output_type": "stream",
     "text": [
      "/tmp/ipykernel_29681/945672944.py:12: UserWarning: `Model.fit_generator` is deprecated and will be removed in a future version. Please use `Model.fit`, which supports generators.\n",
      "  history = model.fit_generator(\n"
     ]
    },
    {
     "name": "stdout",
     "output_type": "stream",
     "text": [
      "46/46 [==============================] - 4s 81ms/step - loss: 1.3400 - accuracy: 0.5595 - val_loss: 1.0051 - val_accuracy: 0.7060\n",
      "Epoch 2/20\n",
      "46/46 [==============================] - 4s 78ms/step - loss: 0.8806 - accuracy: 0.7702 - val_loss: 0.7890 - val_accuracy: 0.8281\n",
      "Epoch 3/20\n",
      "46/46 [==============================] - 3s 72ms/step - loss: 0.7350 - accuracy: 0.8073 - val_loss: 0.6908 - val_accuracy: 0.8192\n",
      "Epoch 4/20\n",
      "46/46 [==============================] - 4s 77ms/step - loss: 0.6591 - accuracy: 0.8264 - val_loss: 0.6454 - val_accuracy: 0.8288\n",
      "Epoch 5/20\n",
      "46/46 [==============================] - 3s 75ms/step - loss: 0.6075 - accuracy: 0.8476 - val_loss: 0.5950 - val_accuracy: 0.8549\n",
      "Epoch 6/20\n",
      "46/46 [==============================] - 3s 75ms/step - loss: 0.5710 - accuracy: 0.8570 - val_loss: 0.5596 - val_accuracy: 0.8720\n",
      "Epoch 7/20\n",
      "46/46 [==============================] - 3s 75ms/step - loss: 0.5408 - accuracy: 0.8643 - val_loss: 0.5274 - val_accuracy: 0.8709\n",
      "Epoch 8/20\n",
      "46/46 [==============================] - 4s 77ms/step - loss: 0.5169 - accuracy: 0.8666 - val_loss: 0.5099 - val_accuracy: 0.8757\n",
      "Epoch 9/20\n",
      "46/46 [==============================] - 3s 75ms/step - loss: 0.5004 - accuracy: 0.8687 - val_loss: 0.5113 - val_accuracy: 0.8361\n",
      "Epoch 10/20\n",
      "46/46 [==============================] - 3s 75ms/step - loss: 0.4842 - accuracy: 0.8701 - val_loss: 0.4831 - val_accuracy: 0.8732\n",
      "Epoch 11/20\n",
      "46/46 [==============================] - 3s 75ms/step - loss: 0.4697 - accuracy: 0.8740 - val_loss: 0.4658 - val_accuracy: 0.8714\n",
      "Epoch 12/20\n",
      "46/46 [==============================] - 4s 78ms/step - loss: 0.4558 - accuracy: 0.8779 - val_loss: 0.4540 - val_accuracy: 0.8862\n",
      "Epoch 13/20\n",
      "46/46 [==============================] - 3s 76ms/step - loss: 0.4444 - accuracy: 0.8814 - val_loss: 0.4445 - val_accuracy: 0.8821\n",
      "Epoch 14/20\n",
      "46/46 [==============================] - 4s 78ms/step - loss: 0.4377 - accuracy: 0.8775 - val_loss: 0.4342 - val_accuracy: 0.8873\n",
      "Epoch 15/20\n",
      "46/46 [==============================] - 3s 75ms/step - loss: 0.4274 - accuracy: 0.8811 - val_loss: 0.4291 - val_accuracy: 0.8757\n",
      "Epoch 16/20\n",
      "46/46 [==============================] - 4s 77ms/step - loss: 0.4171 - accuracy: 0.8859 - val_loss: 0.4249 - val_accuracy: 0.8800\n",
      "Epoch 17/20\n",
      "46/46 [==============================] - 3s 76ms/step - loss: 0.4092 - accuracy: 0.8867 - val_loss: 0.4194 - val_accuracy: 0.8784\n",
      "Epoch 18/20\n",
      "46/46 [==============================] - 3s 74ms/step - loss: 0.4030 - accuracy: 0.8848 - val_loss: 0.4048 - val_accuracy: 0.8890\n",
      "Epoch 19/20\n",
      "46/46 [==============================] - 4s 77ms/step - loss: 0.3962 - accuracy: 0.8882 - val_loss: 0.3966 - val_accuracy: 0.8857\n",
      "Epoch 20/20\n",
      "46/46 [==============================] - 3s 75ms/step - loss: 0.3931 - accuracy: 0.8853 - val_loss: 0.3937 - val_accuracy: 0.8857\n"
     ]
    },
    {
     "data": {
      "image/png": "[encoded data removed]",
      "text/plain": [
       "<Figure size 432x288 with 1 Axes>"
      ]
     },
     "metadata": {
      "needs_background": "light"
     },
     "output_type": "display_data"
    }
   ],
   "source": [
    "train_and_evaluate([1024], 'tanh', 'Adam', 0.00005, 20)"
   ]
  },
  {
   "cell_type": "code",
   "execution_count": null,
   "id": "06f86c54",
   "metadata": {},
   "outputs": [],
   "source": []
  }
 ],
 "metadata": {
  "kernelspec": {
   "display_name": "Python 3 (ipykernel)",
   "language": "python",
   "name": "python3"
  },
  "language_info": {
   "codemirror_mode": {
    "name": "ipython",
    "version": 3
   },
   "file_extension": ".py",
   "mimetype": "text/x-python",
   "name": "python",
   "nbconvert_exporter": "python",
   "pygments_lexer": "ipython3",
   "version": "3.8.13"
  }
 },
 "nbformat": 4,
 "nbformat_minor": 5
}
